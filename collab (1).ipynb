{
  "nbformat": 4,
  "nbformat_minor": 0,
  "metadata": {
    "colab": {
      "provenance": []
    },
    "kernelspec": {
      "name": "python3",
      "display_name": "Python 3"
    },
    "language_info": {
      "name": "python"
    }
  },
  "cells": [
    {
      "cell_type": "code",
      "execution_count": 10,
      "metadata": {
        "colab": {
          "base_uri": "https://localhost:8080/"
        },
        "id": "NEkq2Brn-DbL",
        "outputId": "f50835df-be75-4fc6-b52f-dd4d6e5e04a7"
      },
      "outputs": [
        {
          "output_type": "stream",
          "name": "stdout",
          "text": [
            "\r0% [Working]\r            \rHit:1 http://security.ubuntu.com/ubuntu jammy-security InRelease\n",
            "\r0% [Connecting to archive.ubuntu.com (185.125.190.83)] [Connected to cloud.r-project.org (52.85.151.\r                                                                                                    \rHit:2 https://cloud.r-project.org/bin/linux/ubuntu jammy-cran40/ InRelease\n",
            "\r0% [Connecting to archive.ubuntu.com (185.125.190.83)] [Waiting for headers] [Waiting for headers] [\r                                                                                                    \rHit:3 https://developer.download.nvidia.com/compute/cuda/repos/ubuntu2204/x86_64  InRelease\n",
            "\r0% [Connecting to archive.ubuntu.com (185.125.190.83)] [Waiting for headers] [Connected to ppa.launc\r                                                                                                    \rIgn:4 https://r2u.stat.illinois.edu/ubuntu jammy InRelease\n",
            "\r                                                                                                    \r0% [Waiting for headers] [Connected to ppa.launchpadcontent.net (185.125.190.80)]\r                                                                                 \rHit:5 http://archive.ubuntu.com/ubuntu jammy InRelease\n",
            "Hit:6 https://r2u.stat.illinois.edu/ubuntu jammy Release\n",
            "Hit:7 http://archive.ubuntu.com/ubuntu jammy-updates InRelease\n",
            "Hit:8 http://archive.ubuntu.com/ubuntu jammy-backports InRelease\n",
            "Hit:9 https://ppa.launchpadcontent.net/deadsnakes/ppa/ubuntu jammy InRelease\n",
            "Hit:10 https://ppa.launchpadcontent.net/graphics-drivers/ppa/ubuntu jammy InRelease\n",
            "Hit:11 https://ppa.launchpadcontent.net/ubuntugis/ppa/ubuntu jammy InRelease\n",
            "Reading package lists... Done\n",
            "W: Skipping acquire of configured file 'main/source/Sources' as repository 'https://r2u.stat.illinois.edu/ubuntu jammy InRelease' does not seem to provide it (sources.list entry misspelt?)\n",
            "Spark version: 3.5.0\n"
          ]
        }
      ],
      "source": [
        "import os\n",
        "\n",
        "# Define the Spark version\n",
        "spark_version = 'spark-3.5.0'\n",
        "os.environ['SPARK_VERSION'] = spark_version\n",
        "\n",
        "# Install Java\n",
        "!apt-get update\n",
        "!apt-get install openjdk-11-jdk-headless -qq > /dev/null\n",
        "\n",
        "# Download and extract Spark\n",
        "!wget -q https://archive.apache.org/dist/spark/spark-3.5.0/spark-3.5.0-bin-hadoop3.tgz\n",
        "!tar xf spark-3.5.0-bin-hadoop3.tgz\n",
        "\n",
        "# Install Findspark and PySpark\n",
        "!pip install -q findspark pyspark\n",
        "\n",
        "# Set Environment Variables\n",
        "os.environ[\"JAVA_HOME\"] = \"/usr/lib/jvm/java-11-openjdk-amd64\"\n",
        "os.environ[\"SPARK_HOME\"] = \"/content/spark-3.5.0-bin-hadoop3\"\n",
        "\n",
        "# Initialize Findspark\n",
        "import findspark\n",
        "findspark.init()\n",
        "\n",
        "# Start a SparkSession\n",
        "from pyspark.sql import SparkSession\n",
        "spark = SparkSession.builder.appName('example').getOrCreate()\n",
        "\n",
        "# Print Spark version to verify installation\n",
        "print(f\"Spark version: {spark.version}\")\n",
        "\n"
      ]
    },
    {
      "cell_type": "code",
      "source": [
        "import findspark\n",
        "findspark.init()\n",
        "\n",
        "from pyspark.sql import SparkSession\n",
        "\n",
        "# Create a Spark session\n",
        "spark = SparkSession.builder \\\n",
        "    .appName(\"Card Transactions Data\") \\\n",
        "    .getOrCreate()\n",
        "\n",
        "# Verify the Spark session\n",
        "print(\"Spark version:\", spark.version)\n"
      ],
      "metadata": {
        "colab": {
          "base_uri": "https://localhost:8080/"
        },
        "id": "7tlzpdJ2CEJi",
        "outputId": "c99b7446-edd7-42f4-d908-e91e49d68c1c"
      },
      "execution_count": 11,
      "outputs": [
        {
          "output_type": "stream",
          "name": "stdout",
          "text": [
            "Spark version: 3.5.0\n"
          ]
        }
      ]
    },
    {
      "cell_type": "code",
      "source": [
        "from google.colab import files\n",
        "uploaded = files.upload()\n"
      ],
      "metadata": {
        "colab": {
          "base_uri": "https://localhost:8080/",
          "height": 73
        },
        "id": "rUeQ4wj4CQrv",
        "outputId": "19706040-807c-4b19-a41f-1b99846a0112"
      },
      "execution_count": 12,
      "outputs": [
        {
          "output_type": "display_data",
          "data": {
            "text/plain": [
              "<IPython.core.display.HTML object>"
            ],
            "text/html": [
              "\n",
              "     <input type=\"file\" id=\"files-a7ca5f74-c443-420b-b1ef-90c68ba2f088\" name=\"files[]\" multiple disabled\n",
              "        style=\"border:none\" />\n",
              "     <output id=\"result-a7ca5f74-c443-420b-b1ef-90c68ba2f088\">\n",
              "      Upload widget is only available when the cell has been executed in the\n",
              "      current browser session. Please rerun this cell to enable.\n",
              "      </output>\n",
              "      <script>// Copyright 2017 Google LLC\n",
              "//\n",
              "// Licensed under the Apache License, Version 2.0 (the \"License\");\n",
              "// you may not use this file except in compliance with the License.\n",
              "// You may obtain a copy of the License at\n",
              "//\n",
              "//      http://www.apache.org/licenses/LICENSE-2.0\n",
              "//\n",
              "// Unless required by applicable law or agreed to in writing, software\n",
              "// distributed under the License is distributed on an \"AS IS\" BASIS,\n",
              "// WITHOUT WARRANTIES OR CONDITIONS OF ANY KIND, either express or implied.\n",
              "// See the License for the specific language governing permissions and\n",
              "// limitations under the License.\n",
              "\n",
              "/**\n",
              " * @fileoverview Helpers for google.colab Python module.\n",
              " */\n",
              "(function(scope) {\n",
              "function span(text, styleAttributes = {}) {\n",
              "  const element = document.createElement('span');\n",
              "  element.textContent = text;\n",
              "  for (const key of Object.keys(styleAttributes)) {\n",
              "    element.style[key] = styleAttributes[key];\n",
              "  }\n",
              "  return element;\n",
              "}\n",
              "\n",
              "// Max number of bytes which will be uploaded at a time.\n",
              "const MAX_PAYLOAD_SIZE = 100 * 1024;\n",
              "\n",
              "function _uploadFiles(inputId, outputId) {\n",
              "  const steps = uploadFilesStep(inputId, outputId);\n",
              "  const outputElement = document.getElementById(outputId);\n",
              "  // Cache steps on the outputElement to make it available for the next call\n",
              "  // to uploadFilesContinue from Python.\n",
              "  outputElement.steps = steps;\n",
              "\n",
              "  return _uploadFilesContinue(outputId);\n",
              "}\n",
              "\n",
              "// This is roughly an async generator (not supported in the browser yet),\n",
              "// where there are multiple asynchronous steps and the Python side is going\n",
              "// to poll for completion of each step.\n",
              "// This uses a Promise to block the python side on completion of each step,\n",
              "// then passes the result of the previous step as the input to the next step.\n",
              "function _uploadFilesContinue(outputId) {\n",
              "  const outputElement = document.getElementById(outputId);\n",
              "  const steps = outputElement.steps;\n",
              "\n",
              "  const next = steps.next(outputElement.lastPromiseValue);\n",
              "  return Promise.resolve(next.value.promise).then((value) => {\n",
              "    // Cache the last promise value to make it available to the next\n",
              "    // step of the generator.\n",
              "    outputElement.lastPromiseValue = value;\n",
              "    return next.value.response;\n",
              "  });\n",
              "}\n",
              "\n",
              "/**\n",
              " * Generator function which is called between each async step of the upload\n",
              " * process.\n",
              " * @param {string} inputId Element ID of the input file picker element.\n",
              " * @param {string} outputId Element ID of the output display.\n",
              " * @return {!Iterable<!Object>} Iterable of next steps.\n",
              " */\n",
              "function* uploadFilesStep(inputId, outputId) {\n",
              "  const inputElement = document.getElementById(inputId);\n",
              "  inputElement.disabled = false;\n",
              "\n",
              "  const outputElement = document.getElementById(outputId);\n",
              "  outputElement.innerHTML = '';\n",
              "\n",
              "  const pickedPromise = new Promise((resolve) => {\n",
              "    inputElement.addEventListener('change', (e) => {\n",
              "      resolve(e.target.files);\n",
              "    });\n",
              "  });\n",
              "\n",
              "  const cancel = document.createElement('button');\n",
              "  inputElement.parentElement.appendChild(cancel);\n",
              "  cancel.textContent = 'Cancel upload';\n",
              "  const cancelPromise = new Promise((resolve) => {\n",
              "    cancel.onclick = () => {\n",
              "      resolve(null);\n",
              "    };\n",
              "  });\n",
              "\n",
              "  // Wait for the user to pick the files.\n",
              "  const files = yield {\n",
              "    promise: Promise.race([pickedPromise, cancelPromise]),\n",
              "    response: {\n",
              "      action: 'starting',\n",
              "    }\n",
              "  };\n",
              "\n",
              "  cancel.remove();\n",
              "\n",
              "  // Disable the input element since further picks are not allowed.\n",
              "  inputElement.disabled = true;\n",
              "\n",
              "  if (!files) {\n",
              "    return {\n",
              "      response: {\n",
              "        action: 'complete',\n",
              "      }\n",
              "    };\n",
              "  }\n",
              "\n",
              "  for (const file of files) {\n",
              "    const li = document.createElement('li');\n",
              "    li.append(span(file.name, {fontWeight: 'bold'}));\n",
              "    li.append(span(\n",
              "        `(${file.type || 'n/a'}) - ${file.size} bytes, ` +\n",
              "        `last modified: ${\n",
              "            file.lastModifiedDate ? file.lastModifiedDate.toLocaleDateString() :\n",
              "                                    'n/a'} - `));\n",
              "    const percent = span('0% done');\n",
              "    li.appendChild(percent);\n",
              "\n",
              "    outputElement.appendChild(li);\n",
              "\n",
              "    const fileDataPromise = new Promise((resolve) => {\n",
              "      const reader = new FileReader();\n",
              "      reader.onload = (e) => {\n",
              "        resolve(e.target.result);\n",
              "      };\n",
              "      reader.readAsArrayBuffer(file);\n",
              "    });\n",
              "    // Wait for the data to be ready.\n",
              "    let fileData = yield {\n",
              "      promise: fileDataPromise,\n",
              "      response: {\n",
              "        action: 'continue',\n",
              "      }\n",
              "    };\n",
              "\n",
              "    // Use a chunked sending to avoid message size limits. See b/62115660.\n",
              "    let position = 0;\n",
              "    do {\n",
              "      const length = Math.min(fileData.byteLength - position, MAX_PAYLOAD_SIZE);\n",
              "      const chunk = new Uint8Array(fileData, position, length);\n",
              "      position += length;\n",
              "\n",
              "      const base64 = btoa(String.fromCharCode.apply(null, chunk));\n",
              "      yield {\n",
              "        response: {\n",
              "          action: 'append',\n",
              "          file: file.name,\n",
              "          data: base64,\n",
              "        },\n",
              "      };\n",
              "\n",
              "      let percentDone = fileData.byteLength === 0 ?\n",
              "          100 :\n",
              "          Math.round((position / fileData.byteLength) * 100);\n",
              "      percent.textContent = `${percentDone}% done`;\n",
              "\n",
              "    } while (position < fileData.byteLength);\n",
              "  }\n",
              "\n",
              "  // All done.\n",
              "  yield {\n",
              "    response: {\n",
              "      action: 'complete',\n",
              "    }\n",
              "  };\n",
              "}\n",
              "\n",
              "scope.google = scope.google || {};\n",
              "scope.google.colab = scope.google.colab || {};\n",
              "scope.google.colab._files = {\n",
              "  _uploadFiles,\n",
              "  _uploadFilesContinue,\n",
              "};\n",
              "})(self);\n",
              "</script> "
            ]
          },
          "metadata": {}
        },
        {
          "output_type": "stream",
          "name": "stdout",
          "text": [
            "Saving card_transdata.csv to card_transdata.csv\n"
          ]
        }
      ]
    },
    {
      "cell_type": "code",
      "source": [
        "df = spark.read.csv(\"card_transdata.csv\", header=True, inferSchema=True)\n"
      ],
      "metadata": {
        "id": "3A1vxgYvDRdr"
      },
      "execution_count": 13,
      "outputs": []
    },
    {
      "cell_type": "code",
      "source": [
        "df.createOrReplaceTempView(\"transactions\")\n"
      ],
      "metadata": {
        "id": "tetTGPd7Fl4h"
      },
      "execution_count": 14,
      "outputs": []
    },
    {
      "cell_type": "code",
      "source": [
        "\n",
        "df.createOrReplaceTempView(\"transactions\")\n",
        "result = spark.sql(\"SELECT * FROM transactions LIMIT 20\")\n",
        "result.show()\n"
      ],
      "metadata": {
        "colab": {
          "base_uri": "https://localhost:8080/"
        },
        "id": "Xi0AbeqMH8Wz",
        "outputId": "8b909e26-50c0-4a3a-bc16-ebb7f5d4dafb"
      },
      "execution_count": 16,
      "outputs": [
        {
          "output_type": "stream",
          "name": "stdout",
          "text": [
            "+------------------+------------------------------+------------------------------+---------------+---------+---------------+------------+-----+\n",
            "|distance_from_home|distance_from_last_transaction|ratio_to_median_purchase_price|repeat_retailer|used_chip|used_pin_number|online_order|fraud|\n",
            "+------------------+------------------------------+------------------------------+---------------+---------+---------------+------------+-----+\n",
            "|       57.87785658|                   0.311140008|                   1.945939978|              1|        1|              0|           0|    0|\n",
            "|        10.8299427|                   0.175591502|                   1.294218811|              1|        0|              0|           0|    0|\n",
            "|       5.091079491|                   0.805152595|                   0.427714561|              1|        0|              0|           1|    0|\n",
            "|       2.247564328|                   5.600043547|                   0.362662578|              1|        1|              0|           1|    0|\n",
            "|         44.190936|                   0.566486268|                   2.222767298|              1|        1|              0|           1|    0|\n",
            "|       5.586407674|                   13.26107327|                   0.064768465|              1|        0|              0|           0|    0|\n",
            "|       3.724019125|                   0.956837928|                   0.278464945|              1|        0|              0|           1|    0|\n",
            "|       4.848246572|                   0.320735427|                   1.273049524|              1|        0|              1|           0|    0|\n",
            "|       0.876632256|                   2.503608927|                   1.516999315|              0|        0|              0|           0|    0|\n",
            "|       8.839046704|                   2.970512276|                   2.361682547|              1|        0|              0|           1|    0|\n",
            "|       14.26352974|                   0.158758086|                   1.136101941|              1|        1|              0|           1|    0|\n",
            "|       13.59236757|                   0.240539813|                   1.370329861|              1|        1|              0|           1|    0|\n",
            "|       765.2825593|                   0.371561962|                   0.551244748|              1|        1|              0|           0|    0|\n",
            "|       2.131955666|                   56.37240054|                   6.358667322|              1|        0|              0|           1|    1|\n",
            "|       13.95597237|                   0.271521528|                   2.798901125|              1|        0|              0|           1|    0|\n",
            "|       179.6651477|                   0.120919638|                   0.535640483|              1|        1|              1|           1|    0|\n",
            "|       114.5197894|                   0.707003253|                   0.516989925|              1|        0|              0|           0|    0|\n",
            "|       3.589648598|                   6.247457542|                   1.846450527|              1|        0|              0|           0|    0|\n",
            "|       11.08515248|                   34.66135142|                   2.530758449|              1|        0|              0|           1|    0|\n",
            "|       6.194670766|                   1.142014236|                   0.307216609|              1|        0|              0|           0|    0|\n",
            "+------------------+------------------------------+------------------------------+---------------+---------+---------------+------------+-----+\n",
            "\n"
          ]
        }
      ]
    },
    {
      "cell_type": "code",
      "source": [
        "# Load the CSV file into a PySpark DataFrame\n",
        "df = spark.read.csv('card_transdata.csv', header=True, inferSchema=True)\n",
        "\n",
        "# Show the first few rows\n",
        "df.show()\n"
      ],
      "metadata": {
        "colab": {
          "base_uri": "https://localhost:8080/"
        },
        "id": "mZtVM8QKH8Lc",
        "outputId": "fce920d9-bc66-4c3c-9eb5-4f09bdf62fb1"
      },
      "execution_count": 18,
      "outputs": [
        {
          "output_type": "stream",
          "name": "stdout",
          "text": [
            "+------------------+------------------------------+------------------------------+---------------+---------+---------------+------------+-----+\n",
            "|distance_from_home|distance_from_last_transaction|ratio_to_median_purchase_price|repeat_retailer|used_chip|used_pin_number|online_order|fraud|\n",
            "+------------------+------------------------------+------------------------------+---------------+---------+---------------+------------+-----+\n",
            "|       57.87785658|                   0.311140008|                   1.945939978|              1|        1|              0|           0|    0|\n",
            "|        10.8299427|                   0.175591502|                   1.294218811|              1|        0|              0|           0|    0|\n",
            "|       5.091079491|                   0.805152595|                   0.427714561|              1|        0|              0|           1|    0|\n",
            "|       2.247564328|                   5.600043547|                   0.362662578|              1|        1|              0|           1|    0|\n",
            "|         44.190936|                   0.566486268|                   2.222767298|              1|        1|              0|           1|    0|\n",
            "|       5.586407674|                   13.26107327|                   0.064768465|              1|        0|              0|           0|    0|\n",
            "|       3.724019125|                   0.956837928|                   0.278464945|              1|        0|              0|           1|    0|\n",
            "|       4.848246572|                   0.320735427|                   1.273049524|              1|        0|              1|           0|    0|\n",
            "|       0.876632256|                   2.503608927|                   1.516999315|              0|        0|              0|           0|    0|\n",
            "|       8.839046704|                   2.970512276|                   2.361682547|              1|        0|              0|           1|    0|\n",
            "|       14.26352974|                   0.158758086|                   1.136101941|              1|        1|              0|           1|    0|\n",
            "|       13.59236757|                   0.240539813|                   1.370329861|              1|        1|              0|           1|    0|\n",
            "|       765.2825593|                   0.371561962|                   0.551244748|              1|        1|              0|           0|    0|\n",
            "|       2.131955666|                   56.37240054|                   6.358667322|              1|        0|              0|           1|    1|\n",
            "|       13.95597237|                   0.271521528|                   2.798901125|              1|        0|              0|           1|    0|\n",
            "|       179.6651477|                   0.120919638|                   0.535640483|              1|        1|              1|           1|    0|\n",
            "|       114.5197894|                   0.707003253|                   0.516989925|              1|        0|              0|           0|    0|\n",
            "|       3.589648598|                   6.247457542|                   1.846450527|              1|        0|              0|           0|    0|\n",
            "|       11.08515248|                   34.66135142|                   2.530758449|              1|        0|              0|           1|    0|\n",
            "|       6.194670766|                   1.142014236|                   0.307216609|              1|        0|              0|           0|    0|\n",
            "+------------------+------------------------------+------------------------------+---------------+---------+---------------+------------+-----+\n",
            "only showing top 20 rows\n",
            "\n"
          ]
        }
      ]
    },
    {
      "cell_type": "code",
      "source": [
        "# Ready for implementing model\n",
        "\n"
      ],
      "metadata": {
        "id": "C5NbasY8J2HA"
      },
      "execution_count": null,
      "outputs": []
    }
  ]
}